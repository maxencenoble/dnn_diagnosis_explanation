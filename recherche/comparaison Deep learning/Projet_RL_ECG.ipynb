{
 "cells": [
  {
   "cell_type": "markdown",
   "metadata": {},
   "source": [
    "# Méthodes de Base pour Benchmark  data ECG"
   ]
  },
  {
   "cell_type": "markdown",
   "metadata": {},
   "source": [
    "\n",
    "\n",
    "Chaque enregistrement est constitué des enregistrements de 12 capteurs, sur 4096 pas de temps.\n",
    "\n",
    "La grande dimension de l'espace des features (4096 x 12 = 49152) est contournée classiquement par une Principal Component Analysis, dont on retiendra dans la plupart des modèles les 50 premières composantes, afin d'avoir des temps de calcul raisonnables sur PC.\n",
    "\n",
    "Le dataset est fortement déséquilibré, avec 136 examens comportant au moins une pathologie, et 691 n'en comportant aucune.\n",
    "\n",
    "Cette proportion est suffisante pour entrainer de très mauvais résultats sur un algorythme de LR classique effectué sans précaution : si la précision est bonne (>85%), elle n'est due qu'au fait que le modèle classe systématiquement les points du test set en classe 0 (sans pathologie).\n",
    "\n",
    "On revoit dans un premier temps l'objectif : maximiser la détection des pathologies, quitte à dégrader les autres metrics. C'est à ce stade ce qui peut paraître le plus prioritaire en terme de santé publique.\n",
    "\n",
    "Deux techniques sont utilisées pour essayer de gérer le déséquilibre du dataset : les 'weighted classes' (cad l'affectation de poids important aux classes 1 relativement aux classes 0), et l''undersampling' (cad la constitution d'un training set réduit comportant à parts égales des classes 0 et des classes 1).\n",
    "\n",
    "Un autre algorythme est utilisé : le SVM, avec un Kernel Gaussien classique, dans l'espoir de capturer un peu de non-linéarité dans l'espace de départ.\n",
    "\n",
    "C'est globalement la méthode des poids qui obtient les meilleurs résultats, avec 8 ECGs pathologiques détectés sur 13 pour la LR, et 9/13 pour le SVM.\n",
    "\n",
    "L'undersampling semble moins bien performer, avec respectivement 14/30 détectés en LR, 8/30 en SVM. Mais sur un test set plus grand.\n",
    "\n",
    "En annexe, sans surprise, les essais en multi-classes (en ditinguant les différentes pathologies) butent sur le même écueil, le déséquilibre des classes, encore plus aïgu dans le cas des multi-class."
   ]
  },
  {
   "cell_type": "markdown",
   "metadata": {},
   "source": [
    "Le notebook utilise le fichier 'ecg_tracings.hdf5', qui doit se trouver dans le même directory que le fichier"
   ]
  },
  {
   "cell_type": "markdown",
   "metadata": {},
   "source": [
    "Import Bibliothèques"
   ]
  },
  {
   "cell_type": "code",
   "execution_count": 1,
   "metadata": {},
   "outputs": [],
   "source": [
    "import pandas as pd\n",
    "import numpy as np\n",
    "import matplotlib.pyplot as plt\n",
    "from sklearn.pipeline import Pipeline\n",
    "from sklearn.preprocessing import StandardScaler\n",
    "from sklearn.decomposition import PCA\n",
    "from sklearn.linear_model import LogisticRegression\n",
    "from sklearn.model_selection import train_test_split\n",
    "from sklearn.metrics import classification_report\n",
    "from sklearn.model_selection import GridSearchCV\n",
    "import scipy\n",
    "from scipy import stats\n",
    "from sklearn import svm\n",
    "import matplotlib.pyplot as plt\n",
    "from sklearn.metrics import confusion_matrix\n",
    "import sklearn.metrics\n",
    "from sklearn.model_selection import cross_val_score\n",
    "from sklearn.model_selection import cross_val_predict\n",
    "from sklearn.metrics import precision_recall_curve\n",
    "from sklearn.metrics import roc_curve"
   ]
  },
  {
   "cell_type": "markdown",
   "metadata": {},
   "source": [
    "Import Data"
   ]
  },
  {
   "cell_type": "code",
   "execution_count": 2,
   "metadata": {},
   "outputs": [],
   "source": [
    "# data brute, 827 samples x (taille 4096 x 12 signaux)\n",
    "import h5py\n",
    "f = h5py.File('ecg_tracings.hdf5', 'r')\n",
    "data_brute = list(f['tracings'])"
   ]
  },
  {
   "cell_type": "code",
   "execution_count": 3,
   "metadata": {},
   "outputs": [],
   "source": [
    "# Définit les pathologies : il y en a 6\n",
    "diagnosis = ['1dAVb', 'RBBB', 'LBBB', 'SB', 'AF', 'ST']\n",
    "# Récupère les pathologies définies dans le 'gold standard' (deux cardiologistes + un troisième si désaccord)\n",
    "y_gold_standard = pd.read_csv('gold_standard.csv').values"
   ]
  },
  {
   "cell_type": "markdown",
   "metadata": {},
   "source": [
    "## Analyse exploratoire des données :\n",
    "\n",
    "Le fichier y_gold_standard est retenu ici. Il indique pour chaque point parmis les 827 de l'échantillon, quelle(s) pathologies sont éventuellement présentes."
   ]
  },
  {
   "cell_type": "code",
   "execution_count": 4,
   "metadata": {},
   "outputs": [
    {
     "name": "stdout",
     "output_type": "stream",
     "text": [
      "Nombre total pathologies détectées = 158 sur 827\n",
      "Examens sans pathologie = 681\n",
      "Examens avec une pathologie = 134\n",
      "Examens avec deux pathologies = 12\n",
      "1dAVb 28\n",
      "RBBB 34\n",
      "LBBB 30\n",
      "SB 16\n",
      "AF 13\n",
      "ST 37\n"
     ]
    }
   ],
   "source": [
    "print(f\"Nombre total pathologies détectées = {y_gold_standard.sum()} sur {len(y_gold_standard)}\")\n",
    "count_pathologies = list(np.sum(y_gold_standard,axis=1))\n",
    "print(f\"Examens sans pathologie = {count_pathologies.count(0)}\")\n",
    "print(f\"Examens avec une pathologie = {count_pathologies.count(1)}\")\n",
    "print(f\"Examens avec deux pathologies = {count_pathologies.count(2)}\")\n",
    "type_pathologies = np.sum(y_gold_standard,axis=0)\n",
    "for t in enumerate (diagnosis) :\n",
    "    print (diagnosis[t[0]], type_pathologies[t[0]])"
   ]
  },
  {
   "cell_type": "markdown",
   "metadata": {},
   "source": [
    "### Analyse de dimensionnalité sur l'espace des features.\n",
    "\n",
    "Chaque examen parmis les 827, est un set de 12 enregistrements de 4096 points.\n",
    "\n",
    "Un datapoint a donc 12 x 4096 = 49152 dimensions.\n",
    "\n",
    "On va faire une Principal Component Analysis pour déterminer si on peut faire tourner le modèle sur un espace de dimension plus faible"
   ]
  },
  {
   "cell_type": "markdown",
   "metadata": {},
   "source": [
    "Petit mémo sur le reshape :"
   ]
  },
  {
   "cell_type": "code",
   "execution_count": 5,
   "metadata": {},
   "outputs": [
    {
     "name": "stdout",
     "output_type": "stream",
     "text": [
      "[[[0 1 2 3]\n",
      "  [4 5 6 7]]\n",
      "\n",
      " [[2 3 6 7]\n",
      "  [8 9 0 0]]]\n"
     ]
    }
   ],
   "source": [
    "test = np.array([[[0,1,2,3],[4,5,6,7]],\n",
    "                [[2,3,6,7],[8,9,0,0]]])\n",
    "print(test)"
   ]
  },
  {
   "cell_type": "code",
   "execution_count": 6,
   "metadata": {},
   "outputs": [
    {
     "name": "stdout",
     "output_type": "stream",
     "text": [
      "[[0 1 2 3 4 5 6 7]\n",
      " [2 3 6 7 8 9 0 0]]\n"
     ]
    }
   ],
   "source": [
    "print(np.reshape(test,(2,8)))  "
   ]
  },
  {
   "cell_type": "code",
   "execution_count": 7,
   "metadata": {},
   "outputs": [
    {
     "name": "stdout",
     "output_type": "stream",
     "text": [
      "[[0 1 2 3 4 5 6 7]\n",
      " [2 3 6 7 8 9 0 0]]\n"
     ]
    }
   ],
   "source": [
    "print(np.reshape(test,(2,8),order='C'))  # ordre par défaut"
   ]
  },
  {
   "cell_type": "code",
   "execution_count": 8,
   "metadata": {},
   "outputs": [
    {
     "name": "stdout",
     "output_type": "stream",
     "text": [
      "[[0 4 1 5 2 6 3 7]\n",
      " [2 8 3 9 6 0 7 0]]\n"
     ]
    }
   ],
   "source": [
    "print(np.reshape(test,(2,8),order='F'))"
   ]
  },
  {
   "cell_type": "markdown",
   "metadata": {},
   "source": [
    "De retour sur notre 827 x 4096 x 12"
   ]
  },
  {
   "cell_type": "code",
   "execution_count": 9,
   "metadata": {},
   "outputs": [
    {
     "data": {
      "text/plain": [
       "(827, 4096, 12)"
      ]
     },
     "execution_count": 9,
     "metadata": {},
     "output_type": "execute_result"
    }
   ],
   "source": [
    "data = np.asarray(data_brute)\n",
    "data.shape"
   ]
  },
  {
   "cell_type": "code",
   "execution_count": 10,
   "metadata": {},
   "outputs": [],
   "source": [
    "#####################################################################\n",
    "#### on va donc agréger les 12 capteurs par pas de temps, ###########\n",
    "#### puis passer au pas de temps suivant ############################\n",
    "#####################################################################\n",
    "\n",
    "data = np.reshape(data,(827,4096*12),order='C')"
   ]
  },
  {
   "cell_type": "code",
   "execution_count": 11,
   "metadata": {},
   "outputs": [
    {
     "data": {
      "text/plain": [
       "(827, 49152)"
      ]
     },
     "execution_count": 11,
     "metadata": {},
     "output_type": "execute_result"
    }
   ],
   "source": [
    "data.shape"
   ]
  },
  {
   "cell_type": "markdown",
   "metadata": {},
   "source": [
    "Le PCA nécessite que les features soient normalisées"
   ]
  },
  {
   "cell_type": "code",
   "execution_count": 12,
   "metadata": {},
   "outputs": [
    {
     "data": {
      "text/plain": [
       "(827, 49152)"
      ]
     },
     "execution_count": 12,
     "metadata": {},
     "output_type": "execute_result"
    }
   ],
   "source": [
    "scaler = StandardScaler()\n",
    "data_norm = scaler.fit_transform(data)\n",
    "data_norm.shape"
   ]
  },
  {
   "cell_type": "markdown",
   "metadata": {},
   "source": [
    "Le PCA revient à calculer les valeurs propres de la matrice de la covariance empirique. C'est une matrice de taille nombre_échantillons x nombre_échantillons, symétrique positive. Une valeur propre indique la part de la variance de l'échantillon qui est expliquée par la projection sur le vecteur propre associé.\n",
    "\n",
    "https://scikit-learn.org/stable/modules/generated/sklearn.decomposition.PCA.html"
   ]
  },
  {
   "cell_type": "code",
   "execution_count": 13,
   "metadata": {
    "scrolled": true
   },
   "outputs": [],
   "source": [
    "n_comp = 40 # on peut prendre jusqu'à 827, le nombre de points\n",
    "pca = PCA(n_components=n_comp)\n",
    "pca.fit(data_norm)\n",
    "explained = pca.explained_variance_ratio_"
   ]
  },
  {
   "cell_type": "code",
   "execution_count": 14,
   "metadata": {},
   "outputs": [
    {
     "name": "stdout",
     "output_type": "stream",
     "text": [
      "Nombre de composantes principales = 40\n",
      "Variance expliquée = 89.8%\n"
     ]
    },
    {
     "data": {
      "text/plain": [
       "[<matplotlib.lines.Line2D at 0x375c2308>]"
      ]
     },
     "execution_count": 14,
     "metadata": {},
     "output_type": "execute_result"
    },
    {
     "data": {
      "image/png": "[encoded data removed]",
      "text/plain": [
       "<Figure size 432x288 with 1 Axes>"
      ]
     },
     "metadata": {
      "needs_background": "light"
     },
     "output_type": "display_data"
    }
   ],
   "source": [
    "x = list(range(0,n_comp))\n",
    "exp = list(explained)\n",
    "cumul = np.zeros(n_comp)\n",
    "cumul[0]=explained[0]\n",
    "for i in range(1,len(explained)):\n",
    "    cumul[i]=cumul[i-1]+explained[i]\n",
    "print(f\"Nombre de composantes principales = {n_comp}\")\n",
    "print(f\"Variance expliquée = {round(explained.sum()*100,1)}%\")\n",
    "plt.bar (x, exp, color = 'blue', label = 'x' )  # charte simple\n",
    "plt.plot (x, cumul, color = 'black', linewidth = 1)"
   ]
  },
  {
   "cell_type": "markdown",
   "metadata": {},
   "source": [
    "### Conclusion de la PCA :\n",
    "On voit par exemple ici qu'on pourrait retenir 40 composants pour 90% de la variance,\n",
    "130 composants pour 95% de la variance, et donc 827 pour 100%."
   ]
  },
  {
   "cell_type": "markdown",
   "metadata": {},
   "source": [
    "## Construction du vecteur des labels"
   ]
  },
  {
   "cell_type": "code",
   "execution_count": 15,
   "metadata": {},
   "outputs": [
    {
     "data": {
      "text/plain": [
       "array([[0, 0, 0, 0, 0, 0],\n",
       "       [0, 0, 1, 0, 0, 0],\n",
       "       [0, 0, 0, 0, 0, 0],\n",
       "       ...,\n",
       "       [0, 0, 0, 0, 0, 0],\n",
       "       [0, 0, 0, 0, 0, 0],\n",
       "       [1, 0, 0, 0, 0, 0]], dtype=int64)"
      ]
     },
     "execution_count": 15,
     "metadata": {},
     "output_type": "execute_result"
    }
   ],
   "source": [
    "y_gold_standard"
   ]
  },
  {
   "cell_type": "code",
   "execution_count": 16,
   "metadata": {},
   "outputs": [
    {
     "data": {
      "text/plain": [
       "(827, 6)"
      ]
     },
     "execution_count": 16,
     "metadata": {},
     "output_type": "execute_result"
    }
   ],
   "source": [
    "y_gold_standard.shape"
   ]
  },
  {
   "cell_type": "markdown",
   "metadata": {},
   "source": [
    "Labels : on classe simplement entre \"pas de pathologie\" et \"au moins une pathologie\""
   ]
  },
  {
   "cell_type": "code",
   "execution_count": 17,
   "metadata": {},
   "outputs": [],
   "source": [
    "y_labels = np.array(range(len(y_gold_standard)))\n",
    "for i,tab in enumerate(y_gold_standard):\n",
    "    y_labels[i] = (1 if tab.sum()>=1 else 0)"
   ]
  },
  {
   "cell_type": "code",
   "execution_count": 18,
   "metadata": {},
   "outputs": [
    {
     "data": {
      "text/plain": [
       "(827,)"
      ]
     },
     "execution_count": 18,
     "metadata": {},
     "output_type": "execute_result"
    }
   ],
   "source": [
    "y_labels.shape"
   ]
  },
  {
   "cell_type": "markdown",
   "metadata": {},
   "source": [
    "Split entre Train et Test"
   ]
  },
  {
   "cell_type": "code",
   "execution_count": 19,
   "metadata": {},
   "outputs": [],
   "source": [
    "# 10% du sample gardé pour les tests (soit 82 points)\n",
    "# random state = 0 assure que le shuffling sera le même lors des tests et debugs\n",
    "X_train, X_test, y_train, y_test = train_test_split(\n",
    "    data, y_labels, test_size=0.10, random_state=0)"
   ]
  },
  {
   "cell_type": "code",
   "execution_count": 20,
   "metadata": {},
   "outputs": [
    {
     "data": {
      "text/plain": [
       "(744, 49152)"
      ]
     },
     "execution_count": 20,
     "metadata": {},
     "output_type": "execute_result"
    }
   ],
   "source": [
    "X_train.shape"
   ]
  },
  {
   "cell_type": "code",
   "execution_count": 21,
   "metadata": {},
   "outputs": [
    {
     "data": {
      "text/plain": [
       "(83, 49152)"
      ]
     },
     "execution_count": 21,
     "metadata": {},
     "output_type": "execute_result"
    }
   ],
   "source": [
    "X_test.shape"
   ]
  },
  {
   "cell_type": "markdown",
   "metadata": {},
   "source": [
    "# MODELE 1 - Baseline : Logistic Regression binaire\n",
    "\n",
    "Construction du Pipeline Logistic Regression"
   ]
  },
  {
   "cell_type": "markdown",
   "metadata": {},
   "source": [
    "Normalisation par Standard Scaler, puis PCA, puis Logistic Regression classique."
   ]
  },
  {
   "cell_type": "code",
   "execution_count": 22,
   "metadata": {},
   "outputs": [],
   "source": [
    "#1 - Normalisation\n",
    "# https://scikit-learn.org/stable/modules/generated/sklearn.preprocessing.StandardScaler.html?highlight=standardscaler#sklearn.preprocessing.StandardScaler\n",
    "norm = StandardScaler()\n",
    "#2 - PCA\n",
    "# https://scikit-learn.org/stable/modules/generated/sklearn.decomposition.PCA.html?highlight=pca#sklearn.decomposition.PCA\n",
    "red_dim = PCA(n_components=50) # nombre de composants à définir\n",
    "#3 - Logistic Regression\n",
    "# https://scikit-learn.org/stable/modules/generated/sklearn.linear_model.LogisticRegression.html#sklearn.linear_model.LogisticRegression\n",
    "lr = LogisticRegression(penalty = 'l2',  # regularisation : L2 par défaut, ou 'None' pour voir sans\n",
    "                        solver = 'lbfgs',   # 'sag' = stochastic gradient descent, 'lbfgs' par défaut\n",
    "                        tol = 0.1,  # on converge mal avec la tolérance par défaut 10^-4\n",
    "                        max_iter = 1000   # on augmente le nombre d'itérations pour avoir la convergence\n",
    "                       )"
   ]
  },
  {
   "cell_type": "code",
   "execution_count": 23,
   "metadata": {},
   "outputs": [],
   "source": [
    "estimators = [('normalisation',norm),\n",
    "              ('reduction_dimension', red_dim), \n",
    "              ('regression_logistique', lr)]\n",
    "               \n",
    "baseline_lr = Pipeline(estimators)"
   ]
  },
  {
   "cell_type": "markdown",
   "metadata": {},
   "source": [
    "### Première méthode pour évaluer le modèle : train/test split"
   ]
  },
  {
   "cell_type": "code",
   "execution_count": 24,
   "metadata": {},
   "outputs": [],
   "source": [
    "def eval_1 (modele, X_train, y_train, X_test, y_test):\n",
    "    # fit le modèle,\n",
    "    # prédit sur le test set\n",
    "    # calcule le score sur le test set\n",
    "    # printe le rapport et la confusion matrix\n",
    "    modele.fit(X_train, y_train)\n",
    "    y_pred = modele.predict(X_test)\n",
    "    score = modele.score(X_test,y_test)\n",
    "    print(\"Score modèle = \", score)\n",
    "    print(\"Classification Report :\")\n",
    "    print(classification_report(y_test, y_pred))\n",
    "    print(\"Confusion matrix sur le test set :\")\n",
    "    sklearn.metrics.plot_confusion_matrix(modele, X_test, y_test)\n",
    "    plt.show()"
   ]
  },
  {
   "cell_type": "code",
   "execution_count": 25,
   "metadata": {},
   "outputs": [
    {
     "name": "stdout",
     "output_type": "stream",
     "text": [
      "Score modèle =  0.8554216867469879\n",
      "Classification Report :\n",
      "              precision    recall  f1-score   support\n",
      "\n",
      "           0       0.85      1.00      0.92        70\n",
      "           1       1.00      0.08      0.14        13\n",
      "\n",
      "    accuracy                           0.86        83\n",
      "   macro avg       0.93      0.54      0.53        83\n",
      "weighted avg       0.88      0.86      0.80        83\n",
      "\n",
      "Confusion matrix sur le test set :\n"
     ]
    },
    {
     "data": {
      "image/png": "[encoded data removed]",
      "text/plain": [
       "<Figure size 432x288 with 2 Axes>"
      ]
     },
     "metadata": {
      "needs_background": "light"
     },
     "output_type": "display_data"
    }
   ],
   "source": [
    "eval_1(baseline_lr, X_train, y_train, X_test, y_test)"
   ]
  },
  {
   "cell_type": "markdown",
   "metadata": {},
   "source": [
    "### Deuxième méthode pour évaluer la précision : Cross-Validation\n",
    "\n",
    "On utilise seulement le training set bien sûr, pas le set entier."
   ]
  },
  {
   "cell_type": "code",
   "execution_count": 26,
   "metadata": {},
   "outputs": [],
   "source": [
    "def eval_2 (modele, X_train, y_train, nb_cv=3):\n",
    "    # fait une cross-validation (par défaut 3 folds)\n",
    "    # affiche les résultats de la CV,\n",
    "    # calcule une prédiction sur le training set\n",
    "    # sort la confusion matrix sur le train set et le test set\n",
    "    print (\"cross-validation\")\n",
    "    results_cv = cross_val_score(modele, X_train, y_train, cv=3)\n",
    "    print (\"scores = \",results_cv)\n",
    "    print (\"moyenne = \",results_cv.mean())\n",
    "    print (\"ecart type = \",results_cv.std())\n",
    "    y_train_pred = cross_val_predict(modele, X_train, y_train, cv=nb_cv)\n",
    "    print(\"Confusion matrix sur le train set :\")\n",
    "    print(confusion_matrix(y_train, y_train_pred))\n",
    "    plt.show()"
   ]
  },
  {
   "cell_type": "code",
   "execution_count": 27,
   "metadata": {},
   "outputs": [
    {
     "name": "stdout",
     "output_type": "stream",
     "text": [
      "cross-validation\n",
      "scores =  [0.80645161 0.82258065 0.76612903]\n",
      "moyenne =  0.7983870967741935\n",
      "ecart type =  0.02374129265141896\n",
      "Confusion matrix sur le train set :\n",
      "[[588  23]\n",
      " [124   9]]\n"
     ]
    }
   ],
   "source": [
    "eval_2 (baseline_lr, X_train, y_train)"
   ]
  },
  {
   "cell_type": "markdown",
   "metadata": {},
   "source": [
    "## Une discussion sur les metrics s'impose :\n",
    "\n",
    "https://scikit-learn.org/stable/modules/generated/sklearn.metrics.precision_recall_fscore_support.html#sklearn.metrics.precision_recall_fscore_support\n",
    "\n",
    "https://en.wikipedia.org/wiki/Precision_and_recall\n",
    "\n",
    "https://en.wikipedia.org/wiki/Confusion_matrix\n",
    "\n",
    "- score du modèle/accuracy : c'est la proportion de bonnes prédictions, cad\n",
    "nombre_prédictions_correctes / nombre_de_prédictions_totales\n",
    "on voit que sur le test set, on a 70 classes 0, et 13 classes 1. Un modèle qui donne systématiquement la classe 0, va donc mécaniquement avoir 70/83 = 84,34% précision, sans être un bon modèle. Attention...\n",
    "\n",
    "- precision (1ere colonne) : c'est tp / (tp + fp) ; la proportion de vrais positifs dans l'ensemble des positifs prédits par le modèle. Dans notre cas, un positif est la classe 0 (pas de pathologie). 85% des positifs donnés par le modèle sont de vrais positifs.\n",
    "\n",
    "- recall (2e colonne) : c'est tp / (tp + fn) ; la proportion de positifs rééls détectés par le modèle.\n",
    "\n",
    "- le F1-score est la moyenne harmonique des deux : 2 x (precision x recall) / (precision + recall)\n",
    "\n",
    "Les metrics sont calculés pour chaque classe par la fonction classification_report.\n",
    "On voit que :\n",
    "\n",
    "- pour la classe 0, precision = 0.85 et recall = 1 : tous les ECG sans pathologie sont détectés (recall=1), mais seules 85% des prédictions de classe 0 (=ECG sans pathologie) sont justes !\n",
    "- pour la classe 1, precision = 1 : tous les ECG avec pathologie prédits par le modèle sont de vrais ECGs avec pathologie, mais recall = 0,08 : la proportion d'ECG avec pathologie détectés est très faible : 1/13 !\n",
    "\n",
    "On déduit que le modèle a prédit une classe 1, correcte, et le reste en classe 0, dont 70 prédictions correctes. On retrouve la précision de (70 + 1)/(70 +13) = 85,5%. 12 classes 1 n'ont donc pas été détectées.\n",
    "\n",
    "### Le modèle n'est donc pas bon, malgré une précision élevée"
   ]
  },
  {
   "cell_type": "markdown",
   "metadata": {},
   "source": [
    "#### Objectif : on va chercher un recall de classe 1 élevé, cad une forte détection des ECG indiquant une pathologie, même si cela mène à la dégradation des autres metrics."
   ]
  },
  {
   "cell_type": "markdown",
   "metadata": {},
   "source": [
    "### Recherche de la courbe Precision-Recall"
   ]
  },
  {
   "cell_type": "code",
   "execution_count": 28,
   "metadata": {},
   "outputs": [],
   "source": [
    "def courbes(modele, X_train, y_train, nb_cv=3):\n",
    "    y_scores = cross_val_predict(modele, X_train, y_train, cv=nb_cv, method='decision_function')\n",
    "    # method='decision_function' appelle la méthode de LogisticRegression qui retourne les probabilités, pas la classe\n",
    "    precisions, recalls, seuils = precision_recall_curve(y_train, y_scores)\n",
    "    print(\"Courbe précision vs recall\")\n",
    "    plt.plot(seuils, precisions[:-1], 'b--', label = \"Precision\")\n",
    "    plt.plot(seuils, recalls[:-1], 'g-', label = \"Recall\")\n",
    "    plt.legend()\n",
    "    plt.show()\n",
    "    print(\"ROC\")\n",
    "    fpr, tpr, seuils = roc_curve(y_train, y_scores)\n",
    "    plt.plot(fpr, tpr, linewidth=2, label=None)\n",
    "    plt.plot([0,1],[0,1],'k--')\n",
    "    plt.grid\n",
    "    plt.show()"
   ]
  },
  {
   "cell_type": "code",
   "execution_count": 29,
   "metadata": {
    "scrolled": false
   },
   "outputs": [
    {
     "name": "stdout",
     "output_type": "stream",
     "text": [
      "Courbe précision vs recall\n"
     ]
    },
    {
     "data": {
      "image/png": "[encoded data removed]",
      "text/plain": [
       "<Figure size 432x288 with 1 Axes>"
      ]
     },
     "metadata": {
      "needs_background": "light"
     },
     "output_type": "display_data"
    },
    {
     "name": "stdout",
     "output_type": "stream",
     "text": [
      "ROC\n"
     ]
    },
    {
     "data": {
      "image/png": "[encoded data removed]",
      "text/plain": [
       "<Figure size 432x288 with 1 Axes>"
      ]
     },
     "metadata": {
      "needs_background": "light"
     },
     "output_type": "display_data"
    }
   ],
   "source": [
    "courbes(baseline_lr, X_train, y_train)"
   ]
  },
  {
   "cell_type": "markdown",
   "metadata": {},
   "source": [
    "On voit que l'on pourrait avoir un recall autour de 90% avec une précision d'environ 20%.\n",
    "\n",
    "NB : la petitesse du dataset provoque des courbes assez bizarres"
   ]
  },
  {
   "cell_type": "markdown",
   "metadata": {},
   "source": [
    "Ce qui confirme si besoin en était que le classifier est très mauvais."
   ]
  },
  {
   "cell_type": "markdown",
   "metadata": {},
   "source": [
    "# MODELE 2 - Logistic Regression Binaire avec weighted classes"
   ]
  },
  {
   "cell_type": "markdown",
   "metadata": {},
   "source": [
    "On introduit des poids sur la classe '1' (pathologie) sous représentée, dans l'espoir de mieux entrainer le modèle."
   ]
  },
  {
   "cell_type": "code",
   "execution_count": 30,
   "metadata": {},
   "outputs": [],
   "source": [
    "#1 - Normalisation\n",
    "# https://scikit-learn.org/stable/modules/generated/sklearn.preprocessing.StandardScaler.html?highlight=standardscaler#sklearn.preprocessing.StandardScaler\n",
    "norm = StandardScaler()\n",
    "#2 - PCA\n",
    "# https://scikit-learn.org/stable/modules/generated/sklearn.decomposition.PCA.html?highlight=pca#sklearn.decomposition.PCA\n",
    "red_dim = PCA(n_components=50) # nombre de composants à définir\n",
    "#3 - Logistic Regression\n",
    "# https://scikit-learn.org/stable/modules/generated/sklearn.linear_model.LogisticRegression.html#sklearn.linear_model.LogisticRegression\n",
    "# poids = 5  # poids affecté aux classes faiblement représentées (avec pathologie). \n",
    "            # Le score s'écroule si le poids est trop haut.\n",
    "# poids_classes = {0:1, 1:poids}\n",
    "lr = LogisticRegression(penalty = 'l2',  # regularisation : L2 par défaut, ou 'None' pour voir sans\n",
    "                        solver = 'lbfgs',   # 'sag' = stochastic gradient descent, 'lbfgs' par défaut\n",
    "                        tol = 0.1,  # on converge mal avec la tolérance par défaut 10^-4\n",
    "                        max_iter = 2000,   # on augmente le nombre d'itérations pour avoir la convergence\n",
    "                        class_weight = 'balanced'  # surpoids de la classe '1', \n",
    "                                                   # par défaut inversement proportionnel à la fréquence de la classe\n",
    "                       )\n",
    "\n",
    "estimators = [('normalisation',norm),\n",
    "              ('reduction_dimension', red_dim), \n",
    "              ('regression_logistique', lr)]\n",
    "               \n",
    "lr_w = Pipeline(estimators)"
   ]
  },
  {
   "cell_type": "code",
   "execution_count": 31,
   "metadata": {},
   "outputs": [
    {
     "name": "stdout",
     "output_type": "stream",
     "text": [
      "Score modèle =  0.6024096385542169\n",
      "Classification Report :\n",
      "              precision    recall  f1-score   support\n",
      "\n",
      "           0       0.89      0.60      0.72        70\n",
      "           1       0.22      0.62      0.33        13\n",
      "\n",
      "    accuracy                           0.60        83\n",
      "   macro avg       0.56      0.61      0.52        83\n",
      "weighted avg       0.79      0.60      0.66        83\n",
      "\n",
      "Confusion matrix sur le test set :\n"
     ]
    },
    {
     "data": {
      "image/png": "[encoded data removed]",
      "text/plain": [
       "<Figure size 432x288 with 2 Axes>"
      ]
     },
     "metadata": {
      "needs_background": "light"
     },
     "output_type": "display_data"
    }
   ],
   "source": [
    "eval_1(lr_w, X_train, y_train, X_test, y_test)"
   ]
  },
  {
   "cell_type": "markdown",
   "metadata": {},
   "source": [
    "8/13 = 62% des ECG pathologiques sont détectés (vs 8% précedemment), mais seulement 8/35 = 23% des ECGs pathologiques annoncés par le modèle sont réels.\n",
    "\n",
    "La précision du modèle est fortement dégradée à 61% - à peine plus d'une prédiction sur deux est correcte. On ne fait pas beaucoup mieux que le pile ou face."
   ]
  },
  {
   "cell_type": "code",
   "execution_count": 32,
   "metadata": {},
   "outputs": [
    {
     "name": "stdout",
     "output_type": "stream",
     "text": [
      "cross-validation\n",
      "scores =  [0.66129032 0.68145161 0.59677419]\n",
      "moyenne =  0.646505376344086\n",
      "ecart type =  0.03611566893157095\n",
      "Confusion matrix sur le train set :\n",
      "[[442 169]\n",
      " [ 93  40]]\n"
     ]
    }
   ],
   "source": [
    "eval_2 (lr_w, X_train, y_train)"
   ]
  },
  {
   "cell_type": "code",
   "execution_count": 33,
   "metadata": {},
   "outputs": [
    {
     "name": "stdout",
     "output_type": "stream",
     "text": [
      "Courbe précision vs recall\n"
     ]
    },
    {
     "data": {
      "image/png": "[encoded data removed]",
      "text/plain": [
       "<Figure size 432x288 with 1 Axes>"
      ]
     },
     "metadata": {
      "needs_background": "light"
     },
     "output_type": "display_data"
    },
    {
     "name": "stdout",
     "output_type": "stream",
     "text": [
      "ROC\n"
     ]
    },
    {
     "data": {
      "image/png": "[encoded data removed]",
      "text/plain": [
       "<Figure size 432x288 with 1 Axes>"
      ]
     },
     "metadata": {
      "needs_background": "light"
     },
     "output_type": "display_data"
    }
   ],
   "source": [
    "courbes(lr_w, X_train, y_train)"
   ]
  },
  {
   "cell_type": "markdown",
   "metadata": {},
   "source": [
    "# MODELE 3 - SVM avec weighted classes"
   ]
  },
  {
   "cell_type": "markdown",
   "metadata": {},
   "source": [
    "La LR Binaire trouve un hyperplan qui sépare -au mieux- les points de classe prédite 1 et les points de classe prédite -1. Les paramètres de l'hyperplan sont trouvés en applicant maximisant l'EMV, ou, ce qui revient au même, en minimisant la cross-entropy loss. (En dimension n>=2, on utilise la fonction softmax, qui est la généralisation de la fonction logistique, et qui mène à la cross-entropy loss multinomiale.)\n",
    "\n",
    "L'algorythme SVM va aussi chercher un -ou plusieurs- hyperplan(s) de séparation des points, avec une méthode différente : il s'agit de maximiser une \"marge\" (=distance de séparation) entre les deux classes, en utilisant le problème dual du problème de maximisation de la marge. Le Lagrangien fait intervenir des contraintes d'inégalité, et seuls les points où la contrainte est active (les plus proches de la limite) ont des coefficients non nuls : ce sont les \"support vectors\".\n",
    "\n",
    "Le SVM permet également de faire intervenir des Kernels, cad un mapping de l'espace des points de départ (\"attributs\") dans un espace intermédiaire de points appelés \"features\". Le Kernel permet de faire correspondre un problème linéaire de définition d'hyperplan(s) dans l'espace des features, à une séparation non-linéaire dans l'espace de départ.\n",
    "\n",
    "Gros espoirs donc sur le SVM, avec on imagine un Kernel non-linéaire.\n",
    "\n",
    "https://scikit-learn.org/stable/modules/svm.html"
   ]
  },
  {
   "cell_type": "code",
   "execution_count": 34,
   "metadata": {},
   "outputs": [],
   "source": [
    "#1 - Normalisation\n",
    "norm = StandardScaler() # inchangé\n",
    "#2 - PCA\n",
    "red_dim = PCA(n_components=50)    # on prend toutes les composantes.\n",
    "#3 - Support Vector Machine\n",
    "poids = 10  # poids affecté aux classes faiblement représentées (avec pathologie). \n",
    "            # Le score s'écroule si le poids est trop haut.\n",
    "poids_classes = {0:1, 1:poids}\n",
    "classifier = svm.SVC(C = 1.0, # coeff régularisation L2\n",
    "                     kernel = 'rbf', # Gaussian Kernel, classique, \n",
    "                     # https://en.wikipedia.org/wiki/Radial_basis_function_kernel\n",
    "                     gamma = 'scale', # choix paramètre du Gaussian Kernel\n",
    "                     tol = 0.1,  # tolérance basse pour ne pas trop attendre\n",
    "                     class_weight = poids_classes,  # permet d'affecter des poids en fonction de la fréquence des classes.\n",
    "                     max_iter = 10000,   # on augmente le nombre d'itérations pour avoir la convergence\n",
    "                     decision_function_shape = 'ovo', # one-versus-one classifiers en multi-classes\n",
    "                     )\n",
    "\n",
    "estimators = [('normalisation',norm),\n",
    "              ('reduction_dimension', red_dim), \n",
    "              ('svm', classifier)]\n",
    "               \n",
    "lr_svm_w = Pipeline(estimators)"
   ]
  },
  {
   "cell_type": "code",
   "execution_count": 35,
   "metadata": {},
   "outputs": [
    {
     "name": "stdout",
     "output_type": "stream",
     "text": [
      "Score modèle =  0.25301204819277107\n",
      "Classification Report :\n",
      "              precision    recall  f1-score   support\n",
      "\n",
      "           0       0.75      0.17      0.28        70\n",
      "           1       0.13      0.69      0.23        13\n",
      "\n",
      "    accuracy                           0.25        83\n",
      "   macro avg       0.44      0.43      0.25        83\n",
      "weighted avg       0.65      0.25      0.27        83\n",
      "\n",
      "Confusion matrix sur le test set :\n"
     ]
    },
    {
     "data": {
      "image/png": "[encoded data removed]",
      "text/plain": [
       "<Figure size 432x288 with 2 Axes>"
      ]
     },
     "metadata": {
      "needs_background": "light"
     },
     "output_type": "display_data"
    }
   ],
   "source": [
    "eval_1(lr_svm_w, X_train, y_train, X_test, y_test)"
   ]
  },
  {
   "cell_type": "code",
   "execution_count": 36,
   "metadata": {},
   "outputs": [
    {
     "name": "stdout",
     "output_type": "stream",
     "text": [
      "cross-validation\n",
      "scores =  [0.31451613 0.30241935 0.31854839]\n",
      "moyenne =  0.3118279569892473\n",
      "ecart type =  0.0068535208516031995\n",
      "Confusion matrix sur le train set :\n",
      "[[131 480]\n",
      " [ 30 103]]\n"
     ]
    }
   ],
   "source": [
    "eval_2 (lr_svm_w, X_train, y_train)"
   ]
  },
  {
   "cell_type": "code",
   "execution_count": 37,
   "metadata": {},
   "outputs": [
    {
     "name": "stdout",
     "output_type": "stream",
     "text": [
      "Courbe précision vs recall\n"
     ]
    },
    {
     "data": {
      "image/png": "[encoded data removed]",
      "text/plain": [
       "<Figure size 432x288 with 1 Axes>"
      ]
     },
     "metadata": {
      "needs_background": "light"
     },
     "output_type": "display_data"
    },
    {
     "name": "stdout",
     "output_type": "stream",
     "text": [
      "ROC\n"
     ]
    },
    {
     "data": {
      "image/png": "[encoded data removed]",
      "text/plain": [
       "<Figure size 432x288 with 1 Axes>"
      ]
     },
     "metadata": {
      "needs_background": "light"
     },
     "output_type": "display_data"
    }
   ],
   "source": [
    "courbes(lr_svm_w, X_train, y_train)"
   ]
  },
  {
   "cell_type": "markdown",
   "metadata": {},
   "source": [
    "Un peu mieux que la LR avec poids : 9/13 = 69% des ECG pathologiques détectés.\n",
    "Mais avec beaucoup de fausses pathologies : seulement 13% des ECG pathologiques annoncés par le modèle sont réels."
   ]
  },
  {
   "cell_type": "markdown",
   "metadata": {},
   "source": [
    "## Une autre méthode dans le cas des 'unbalanced classes' : l'undersampling\n",
    "\n",
    "https://www.tensorflow.org/tutorials/structured_data/imbalanced_data\n",
    "\n",
    "https://towardsdatascience.com/methods-for-dealing-with-imbalanced-data-5b761be45a18\n",
    "\n",
    "L'idée est ici d'entrainer le modèle sur un set composé de certaines classes 1 (par exemple 80% des classes 1 du set total), et d'un nombre égal de classes 0.\n",
    "\n",
    "Le validation set est alors composé des points et labels non choisis dans cette première étape.\n",
    "\n",
    "Le modèle est entrainé sur un set de plus petite taille que précédemment, mais mieux équilibré."
   ]
  },
  {
   "cell_type": "code",
   "execution_count": 38,
   "metadata": {},
   "outputs": [],
   "source": [
    "pos_labels = [i for i,j in enumerate(y_labels) if j==1]  # liste des indices des points de classe 1\n",
    "neg_labels = [i for i,j in enumerate(y_labels) if j==0]  # liste des indices des points de classe 0"
   ]
  },
  {
   "cell_type": "code",
   "execution_count": 39,
   "metadata": {},
   "outputs": [
    {
     "data": {
      "text/plain": [
       "0.17654171704957677"
      ]
     },
     "execution_count": 39,
     "metadata": {},
     "output_type": "execute_result"
    }
   ],
   "source": [
    "len(pos_labels) / (len(pos_labels) + len(neg_labels))  \n",
    "# proportion des classes 1 : 17,7% du total.\n",
    "# Suffisant pour les mauvais résultats qu'on a vus !"
   ]
  },
  {
   "cell_type": "code",
   "execution_count": 40,
   "metadata": {},
   "outputs": [],
   "source": [
    "np.random.seed(0)\n",
    "np.random.shuffle(pos_labels)\n",
    "np.random.shuffle(neg_labels)\n",
    "\n",
    "nb_indices = int(len(pos_labels)*.80)  # on prend 80% des classes 1 dans le training set\n",
    "\n",
    "indices_pos = pos_labels[0:nb_indices]\n",
    "indices_neg = neg_labels[0:nb_indices]"
   ]
  },
  {
   "cell_type": "code",
   "execution_count": 41,
   "metadata": {},
   "outputs": [
    {
     "data": {
      "text/plain": [
       "116"
      ]
     },
     "execution_count": 41,
     "metadata": {},
     "output_type": "execute_result"
    }
   ],
   "source": [
    "len(indices_pos)"
   ]
  },
  {
   "cell_type": "code",
   "execution_count": 42,
   "metadata": {},
   "outputs": [],
   "source": [
    "train_pos = data[indices_pos]\n",
    "train_neg = data[indices_neg]\n",
    "X_train_resampled = np.concatenate((train_pos, train_neg), axis=0)\n",
    "y_train_resampled = np.concatenate((y_labels[indices_pos], y_labels[indices_neg]))\n",
    "\n",
    "order = np.arange(len(y_train_resampled))\n",
    "np.random.shuffle(order)\n",
    "X_train_resampled = X_train_resampled[order]\n",
    "y_train_resampled = y_train_resampled[order]"
   ]
  },
  {
   "cell_type": "code",
   "execution_count": 43,
   "metadata": {},
   "outputs": [
    {
     "data": {
      "text/plain": [
       "(232, 49152)"
      ]
     },
     "execution_count": 43,
     "metadata": {},
     "output_type": "execute_result"
    }
   ],
   "source": [
    "X_train_resampled.shape"
   ]
  },
  {
   "cell_type": "code",
   "execution_count": 44,
   "metadata": {},
   "outputs": [
    {
     "data": {
      "text/plain": [
       "(232,)"
      ]
     },
     "execution_count": 44,
     "metadata": {},
     "output_type": "execute_result"
    }
   ],
   "source": [
    "y_train_resampled.shape"
   ]
  },
  {
   "cell_type": "code",
   "execution_count": 45,
   "metadata": {},
   "outputs": [],
   "source": [
    "indices_train = np.concatenate((indices_pos, indices_neg))\n",
    "indices_test = np.delete(np.arange(len(y_labels)),indices_train)\n",
    "X_test_resampled = data[indices_test]\n",
    "y_test_resampled = y_labels[indices_test]"
   ]
  },
  {
   "cell_type": "code",
   "execution_count": 46,
   "metadata": {},
   "outputs": [
    {
     "data": {
      "text/plain": [
       "(595, 49152)"
      ]
     },
     "execution_count": 46,
     "metadata": {},
     "output_type": "execute_result"
    }
   ],
   "source": [
    "X_test_resampled.shape"
   ]
  },
  {
   "cell_type": "markdown",
   "metadata": {},
   "source": [
    "# MODELE 4 - Logistic Regression avec resampling"
   ]
  },
  {
   "cell_type": "code",
   "execution_count": 47,
   "metadata": {},
   "outputs": [],
   "source": [
    "#1 - Normalisation\n",
    "# https://scikit-learn.org/stable/modules/generated/sklearn.preprocessing.StandardScaler.html?highlight=standardscaler#sklearn.preprocessing.StandardScaler\n",
    "norm = StandardScaler()\n",
    "#2 - PCA\n",
    "# https://scikit-learn.org/stable/modules/generated/sklearn.decomposition.PCA.html?highlight=pca#sklearn.decomposition.PCA\n",
    "red_dim = PCA(n_components=50) # nombre de composants à définir dans n_components = ...\n",
    "#3 - Logistic Regression\n",
    "# https://scikit-learn.org/stable/modules/generated/sklearn.linear_model.LogisticRegression.html#sklearn.linear_model.LogisticRegression\n",
    "lr = LogisticRegression(penalty = 'l2',  # regularisation : L2 par défaut, ou 'None' pour voir sans\n",
    "                        solver = 'lbfgs',   # 'sag' = stochastic gradient descent, 'lbfgs' par défaut\n",
    "                        tol = 0.1,  # on converge mal avec la tolérance par défaut 10^-4\n",
    "                        max_iter = 2000   # on augmente le nombre d'itérations pour avoir la convergence\n",
    "                       )"
   ]
  },
  {
   "cell_type": "code",
   "execution_count": 48,
   "metadata": {},
   "outputs": [],
   "source": [
    "estimators = [('normalisation',norm),\n",
    "              ('reduction_dimension', red_dim), \n",
    "              ('regression_logistique', lr)]\n",
    "               \n",
    "lr_resamp = Pipeline(estimators)"
   ]
  },
  {
   "cell_type": "code",
   "execution_count": 49,
   "metadata": {},
   "outputs": [
    {
     "name": "stdout",
     "output_type": "stream",
     "text": [
      "Score modèle =  0.5495798319327732\n",
      "Classification Report :\n",
      "              precision    recall  f1-score   support\n",
      "\n",
      "           0       0.95      0.55      0.70       565\n",
      "           1       0.05      0.47      0.09        30\n",
      "\n",
      "    accuracy                           0.55       595\n",
      "   macro avg       0.50      0.51      0.40       595\n",
      "weighted avg       0.91      0.55      0.67       595\n",
      "\n",
      "Confusion matrix sur le test set :\n"
     ]
    },
    {
     "data": {
      "image/png": "[encoded data removed]",
      "text/plain": [
       "<Figure size 432x288 with 2 Axes>"
      ]
     },
     "metadata": {
      "needs_background": "light"
     },
     "output_type": "display_data"
    }
   ],
   "source": [
    "eval_1(lr_resamp, X_train_resampled, y_train_resampled, X_test_resampled, y_test_resampled)"
   ]
  },
  {
   "cell_type": "code",
   "execution_count": 50,
   "metadata": {},
   "outputs": [
    {
     "name": "stdout",
     "output_type": "stream",
     "text": [
      "cross-validation\n",
      "scores =  [0.6025641  0.48051948 0.42857143]\n",
      "moyenne =  0.5038850038850039\n",
      "ecart type =  0.07292838227735868\n",
      "Confusion matrix sur le train set :\n",
      "[[71 45]\n",
      " [70 46]]\n"
     ]
    }
   ],
   "source": [
    "eval_2 (lr_resamp, X_train_resampled, y_train_resampled)"
   ]
  },
  {
   "cell_type": "code",
   "execution_count": 51,
   "metadata": {},
   "outputs": [
    {
     "name": "stdout",
     "output_type": "stream",
     "text": [
      "Courbe précision vs recall\n"
     ]
    },
    {
     "data": {
      "image/png": "[encoded data removed]",
      "text/plain": [
       "<Figure size 432x288 with 1 Axes>"
      ]
     },
     "metadata": {
      "needs_background": "light"
     },
     "output_type": "display_data"
    },
    {
     "name": "stdout",
     "output_type": "stream",
     "text": [
      "ROC\n"
     ]
    },
    {
     "data": {
      "image/png": "[encoded data removed]",
      "text/plain": [
       "<Figure size 432x288 with 1 Axes>"
      ]
     },
     "metadata": {
      "needs_background": "light"
     },
     "output_type": "display_data"
    }
   ],
   "source": [
    "courbes(lr_resamp, X_train_resampled, y_train_resampled)"
   ]
  },
  {
   "cell_type": "markdown",
   "metadata": {},
   "source": [
    "Seulement 14/30 = 47% des ECGs avec pathologies sont détectés. Et énormément 252/(252+14) = 95% de faux négatifs (=fausse pathologie)"
   ]
  },
  {
   "cell_type": "markdown",
   "metadata": {},
   "source": [
    "# MODELE 5 - SVM avec resampling "
   ]
  },
  {
   "cell_type": "code",
   "execution_count": 52,
   "metadata": {},
   "outputs": [],
   "source": [
    "#1 - Normalisation\n",
    "norm = StandardScaler() # inchangé\n",
    "#2 - PCA\n",
    "red_dim = PCA()    # on prend toutes les composantes.\n",
    "#3 - Support Vector Machine\n",
    "classifier = svm.SVC(C = 1.0, # coeff régularisation L2\n",
    "                     kernel = 'rbf', # Gaussian Kernel, classique, \n",
    "                     # https://en.wikipedia.org/wiki/Radial_basis_function_kernel\n",
    "                     gamma = 'scale', # choix paramètre du Gaussian Kernel\n",
    "                     tol = 0.1,  # tolérance basse pour ne pas trop attendre\n",
    "                     max_iter = 10000,   # on augmente le nombre d'itérations pour avoir la convergence\n",
    "                     )\n",
    "\n",
    "estimators = [('normalisation',norm),\n",
    "              ('reduction_dimension', red_dim), \n",
    "              ('svm', classifier)]\n",
    "               \n",
    "svm_resamp = Pipeline(estimators)"
   ]
  },
  {
   "cell_type": "code",
   "execution_count": 53,
   "metadata": {},
   "outputs": [
    {
     "name": "stdout",
     "output_type": "stream",
     "text": [
      "Score modèle =  0.7798319327731092\n",
      "Classification Report :\n",
      "              precision    recall  f1-score   support\n",
      "\n",
      "           0       0.95      0.81      0.87       565\n",
      "           1       0.07      0.27      0.11        30\n",
      "\n",
      "    accuracy                           0.78       595\n",
      "   macro avg       0.51      0.54      0.49       595\n",
      "weighted avg       0.91      0.78      0.84       595\n",
      "\n",
      "Confusion matrix sur le test set :\n"
     ]
    },
    {
     "data": {
      "image/png": "[encoded data removed]",
      "text/plain": [
       "<Figure size 432x288 with 2 Axes>"
      ]
     },
     "metadata": {
      "needs_background": "light"
     },
     "output_type": "display_data"
    }
   ],
   "source": [
    "eval_1(svm_resamp, X_train_resampled, y_train_resampled, X_test_resampled, y_test_resampled)"
   ]
  },
  {
   "cell_type": "code",
   "execution_count": 54,
   "metadata": {},
   "outputs": [
    {
     "name": "stdout",
     "output_type": "stream",
     "text": [
      "cross-validation\n",
      "scores =  [0.48717949 0.48051948 0.45454545]\n",
      "moyenne =  0.47408147408147405\n",
      "ecart type =  0.014079085355273998\n",
      "Confusion matrix sur le train set :\n",
      "[[60 56]\n",
      " [66 50]]\n"
     ]
    }
   ],
   "source": [
    "eval_2 (svm_resamp, X_train_resampled, y_train_resampled)"
   ]
  },
  {
   "cell_type": "code",
   "execution_count": 55,
   "metadata": {},
   "outputs": [
    {
     "name": "stdout",
     "output_type": "stream",
     "text": [
      "Courbe précision vs recall\n"
     ]
    },
    {
     "data": {
      "image/png": "[encoded data removed]",
      "text/plain": [
       "<Figure size 432x288 with 1 Axes>"
      ]
     },
     "metadata": {
      "needs_background": "light"
     },
     "output_type": "display_data"
    },
    {
     "name": "stdout",
     "output_type": "stream",
     "text": [
      "ROC\n"
     ]
    },
    {
     "data": {
      "image/png": "[encoded data removed]",
      "text/plain": [
       "<Figure size 432x288 with 1 Axes>"
      ]
     },
     "metadata": {
      "needs_background": "light"
     },
     "output_type": "display_data"
    }
   ],
   "source": [
    "courbes(svm_resamp, X_train_resampled, y_train_resampled)"
   ]
  },
  {
   "cell_type": "markdown",
   "metadata": {},
   "source": [
    "# CONCLUSION : \n",
    "\n",
    "Ce sont les modèles avec classes pondérées qui obtiennent les meilleurs résultats : LR 62% recall, 59% acc ; SVM 69% recall, 25% acc."
   ]
  },
  {
   "cell_type": "markdown",
   "metadata": {},
   "source": [
    "# ANNEXE"
   ]
  },
  {
   "cell_type": "markdown",
   "metadata": {},
   "source": [
    "## Grid Search"
   ]
  },
  {
   "cell_type": "markdown",
   "metadata": {},
   "source": [
    "Il y a une fonction dans scikit-learn qui permet de trouver le meilleur modèle en fonction de ses paramètres.\n",
    "On la montre pour info.\n",
    "\n",
    "https://scikit-learn.org/stable/modules/generated/sklearn.model_selection.GridSearchCV.html#sklearn.model_selection.GridSearchCV"
   ]
  },
  {
   "cell_type": "code",
   "execution_count": 56,
   "metadata": {},
   "outputs": [],
   "source": [
    "# on va chercher l'optimum en changeant :\n",
    "# - nombre de composants PCA : [10,50,100,500,744]\n",
    "# - type solver : ['sag','lbfgs']\n",
    "# - paramètre de la régul : C [0.0001, 0.01, 1, 100, 10000]\n",
    "\n",
    "#1 - Normalisation\n",
    "norm = StandardScaler() # inchangé\n",
    "#2 - PCA\n",
    "red_dim = PCA() # nombre de composants à faire varier\n",
    "#3 - Logistic Regression\n",
    "lr = LogisticRegression(penalty = 'l2',  # regularisation : L2 par défaut\n",
    "                        tol = 0.1,  # tolérance basse pour ne pas trop attendre\n",
    "                        max_iter = 1000   # on augmente le nombre d'itérations pour avoir la convergence\n",
    "                       )"
   ]
  },
  {
   "cell_type": "code",
   "execution_count": 57,
   "metadata": {},
   "outputs": [],
   "source": [
    "estimators = [('normalisation',norm),\n",
    "              ('reduction_dimension', red_dim), \n",
    "              ('regression_logistique', lr)]\n",
    "               \n",
    "modele = Pipeline(steps=estimators)"
   ]
  },
  {
   "cell_type": "code",
   "execution_count": 58,
   "metadata": {
    "scrolled": false
   },
   "outputs": [
    {
     "data": {
      "text/plain": [
       "{'memory': None,\n",
       " 'steps': [('normalisation', StandardScaler()),\n",
       "  ('reduction_dimension', PCA()),\n",
       "  ('regression_logistique', LogisticRegression(max_iter=1000, tol=0.1))],\n",
       " 'verbose': False,\n",
       " 'normalisation': StandardScaler(),\n",
       " 'reduction_dimension': PCA(),\n",
       " 'regression_logistique': LogisticRegression(max_iter=1000, tol=0.1),\n",
       " 'normalisation__copy': True,\n",
       " 'normalisation__with_mean': True,\n",
       " 'normalisation__with_std': True,\n",
       " 'reduction_dimension__copy': True,\n",
       " 'reduction_dimension__iterated_power': 'auto',\n",
       " 'reduction_dimension__n_components': None,\n",
       " 'reduction_dimension__random_state': None,\n",
       " 'reduction_dimension__svd_solver': 'auto',\n",
       " 'reduction_dimension__tol': 0.0,\n",
       " 'reduction_dimension__whiten': False,\n",
       " 'regression_logistique__C': 1.0,\n",
       " 'regression_logistique__class_weight': None,\n",
       " 'regression_logistique__dual': False,\n",
       " 'regression_logistique__fit_intercept': True,\n",
       " 'regression_logistique__intercept_scaling': 1,\n",
       " 'regression_logistique__l1_ratio': None,\n",
       " 'regression_logistique__max_iter': 1000,\n",
       " 'regression_logistique__multi_class': 'auto',\n",
       " 'regression_logistique__n_jobs': None,\n",
       " 'regression_logistique__penalty': 'l2',\n",
       " 'regression_logistique__random_state': None,\n",
       " 'regression_logistique__solver': 'lbfgs',\n",
       " 'regression_logistique__tol': 0.1,\n",
       " 'regression_logistique__verbose': 0,\n",
       " 'regression_logistique__warm_start': False}"
      ]
     },
     "execution_count": 58,
     "metadata": {},
     "output_type": "execute_result"
    }
   ],
   "source": [
    "# Parameters of pipelines can be set using ‘__’ separated parameter names:\n",
    "param_grid = {\n",
    "    'reduction_dimension__n_components': [50,250,827],\n",
    "    'regression_logistique__C': [0.0001, 1.0, 10000.0],\n",
    "#    'regression_logistique__solver': ['lbfgs','sag'],\n",
    "}\n",
    "\n",
    "search = GridSearchCV(modele, param_grid, n_jobs=-1)\n",
    "modele.get_params()"
   ]
  },
  {
   "cell_type": "code",
   "execution_count": 59,
   "metadata": {},
   "outputs": [],
   "source": [
    "# attention 9 minutes sur mon laptop...\n",
    "# search.fit(data, y_labels)"
   ]
  },
  {
   "cell_type": "code",
   "execution_count": 60,
   "metadata": {},
   "outputs": [],
   "source": [
    "# print(\"Best parameter (CV score=%0.3f):\" % search.best_score_)\n",
    "# print(search.best_params_)"
   ]
  },
  {
   "cell_type": "markdown",
   "metadata": {},
   "source": [
    "### Validation Grid Search"
   ]
  },
  {
   "cell_type": "code",
   "execution_count": 61,
   "metadata": {},
   "outputs": [],
   "source": [
    "#1 - Normalisation\n",
    "norm = StandardScaler() # inchangé\n",
    "#2 - PCA\n",
    "red_dim = PCA(n_components = 250) # nombre de composants à faire varier\n",
    "#3 - Logistic Regression\n",
    "lr = LogisticRegression(penalty = 'l2',  # regularisation : L2 par défaut\n",
    "                        tol = 0.1,  # tolérance basse pour ne pas trop attendre\n",
    "                        max_iter = 1000,   # on augmente le nombre d'itérations pour avoir la convergence\n",
    "                        solver = 'lbfgs',  # choix grid search\n",
    "                        C = 0.0001 # forte régularisation\n",
    "                       )"
   ]
  },
  {
   "cell_type": "code",
   "execution_count": 62,
   "metadata": {},
   "outputs": [],
   "source": [
    "estimators = [('normalisation',norm),\n",
    "              ('reduction_dimension', red_dim), \n",
    "              ('regression_logistique', lr)]\n",
    "               \n",
    "modele = Pipeline(estimators)"
   ]
  },
  {
   "cell_type": "code",
   "execution_count": 63,
   "metadata": {},
   "outputs": [
    {
     "data": {
      "text/plain": [
       "Pipeline(steps=[('normalisation', StandardScaler()),\n",
       "                ('reduction_dimension', PCA(n_components=250)),\n",
       "                ('regression_logistique',\n",
       "                 LogisticRegression(C=0.0001, max_iter=1000, tol=0.1))])"
      ]
     },
     "execution_count": 63,
     "metadata": {},
     "output_type": "execute_result"
    }
   ],
   "source": [
    "modele.fit(X_train, y_train)"
   ]
  },
  {
   "cell_type": "code",
   "execution_count": 64,
   "metadata": {},
   "outputs": [],
   "source": [
    "y_pred = modele.predict(X_test)"
   ]
  },
  {
   "cell_type": "code",
   "execution_count": 65,
   "metadata": {},
   "outputs": [
    {
     "data": {
      "text/plain": [
       "0.8313253012048193"
      ]
     },
     "execution_count": 65,
     "metadata": {},
     "output_type": "execute_result"
    }
   ],
   "source": [
    "# n_comps = 250 + regul 0.0001 sortent en tête, mais le modèle performe moins bien avec 83,1% sur le test, \n",
    "# vs 85,5% plus haut\n",
    "modele.score(X_test,y_test)"
   ]
  },
  {
   "cell_type": "code",
   "execution_count": 66,
   "metadata": {},
   "outputs": [
    {
     "name": "stdout",
     "output_type": "stream",
     "text": [
      "              precision    recall  f1-score   support\n",
      "\n",
      "           0       0.84      0.99      0.91        70\n",
      "           1       0.00      0.00      0.00        13\n",
      "\n",
      "    accuracy                           0.83        83\n",
      "   macro avg       0.42      0.49      0.45        83\n",
      "weighted avg       0.71      0.83      0.77        83\n",
      "\n"
     ]
    }
   ],
   "source": [
    "print(classification_report(y_test, y_pred))"
   ]
  },
  {
   "cell_type": "code",
   "execution_count": 67,
   "metadata": {},
   "outputs": [
    {
     "data": {
      "image/png": "[encoded data removed]",
      "text/plain": [
       "<Figure size 432x288 with 2 Axes>"
      ]
     },
     "metadata": {
      "needs_background": "light"
     },
     "output_type": "display_data"
    }
   ],
   "source": [
    "sklearn.metrics.plot_confusion_matrix(modele, X_test, y_test)\n",
    "plt.show()"
   ]
  }
 ],
 "metadata": {
  "kernelspec": {
   "display_name": "Python 3",
   "language": "python",
   "name": "python3"
  },
  "language_info": {
   "codemirror_mode": {
    "name": "ipython",
    "version": 3
   },
   "file_extension": ".py",
   "mimetype": "text/x-python",
   "name": "python",
   "nbconvert_exporter": "python",
   "pygments_lexer": "ipython3",
   "version": "3.7.6"
  }
 },
 "nbformat": 4,
 "nbformat_minor": 4
}
