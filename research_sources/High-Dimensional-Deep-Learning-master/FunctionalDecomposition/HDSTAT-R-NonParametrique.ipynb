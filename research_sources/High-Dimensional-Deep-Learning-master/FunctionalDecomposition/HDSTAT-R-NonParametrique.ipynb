{
 "cells": [
  {
   "cell_type": "markdown",
   "metadata": {},
   "source": [
    "<center>\n",
    "<a href=\"http://www.insa-toulouse.fr/\" ><img src=\"http://www.math.univ-toulouse.fr/~besse/Wikistat/Images/logo-insa.jpg\" style=\"float:left; max-width: 120px; display: inline\" alt=\"INSA\"/></a> \n",
    "\n",
    "<a href=\"http://wikistat.fr/\" ><img src=\"http://www.math.univ-toulouse.fr/~besse/Wikistat/Images/wikistat.jpg\" style=\"max-width: 250px; display: inline\"  alt=\"Wikistat\"/></a>\n",
    "\n",
    "<a href=\"http://www.math.univ-toulouse.fr/\" ><img src=\"http://www.math.univ-toulouse.fr/~besse/Wikistat/Images/logo_imt.jpg\" style=\"float:right; max-width: 250px; display: inline\" alt=\"IMT\"/> </a>\n",
    "</center>"
   ]
  },
  {
   "cell_type": "markdown",
   "metadata": {},
   "source": [
    "# Apprentissage non paramétrique en régression et régularisation\n",
    "\n",
    "** Objectifs : ** \n",
    "\n",
    "Comparaison sur le même jeu de données des qualités de prévision de plusieurs modèles obtenus par:\n",
    "\n",
    "- **Des méthodes unidimensionnelles :**\n",
    "\n",
    "    - Splines\n",
    "    - Estimateurs à noyaux\n",
    "    - Estimation ponctuelle par polynômes locaux\n",
    "    \n",
    "    \n",
    "- **Des méthodes multidimensionnelles :**\n",
    "\n",
    "   - Modèle linéaire\n",
    "   - Modèles additifs généralisés\n",
    "   - Arbre de régression CART\n",
    "   - Kernel Regression Least Square\n",
    "   - Estimateurs à noyaux multidimensionnels.\n",
    "\n"
   ]
  },
  {
   "cell_type": "markdown",
   "metadata": {},
   "source": [
    "# Les données\n",
    "\n",
    "Nous utiliserons les données ** airquality ** du logiciel R. Ces données correspondent à des mesures quotidiennes de la qualité de l'air.\n",
    "La variable à expliquer est le taux d'ozone, les variables explicatives sont \n",
    "- Le rayonnement solaire\n",
    "- La température\n",
    "- La vitesse du vent \n",
    "\n",
    "\n",
    "\n",
    "** Liste des 6 variables, la première est à expliquer **\n",
    "\n",
    "- Ozone :  Mean ozone in parts per billion from 1300 to 1500 hours at Roosevelt Island \n",
    "- Solar.R :   Solar radiation in Langleys in the frequency band 4000 to 7700  Angstroms from 08.00 to 12.00 hours at  Central Park \n",
    "- Wind :  Average wind speed in miles per hour at 07.00 and 10.00 hours atLa Guardia Airport\n",
    "- Temp : Maximum daily temperature in degrees Fahrenheit at La Guardia Airport\n",
    "- Month : Numeric Month (1 - 12)\\\\\n",
    "- Day : Numeric Day of month (1 - 31)\n",
    "\n",
    "\n",
    "\n"
   ]
  },
  {
   "cell_type": "code",
   "execution_count": null,
   "metadata": {},
   "outputs": [],
   "source": [
    "data(airquality)\n",
    "summary(airquality)\n",
    "help(airquality)\n",
    "airquality"
   ]
  },
  {
   "cell_type": "markdown",
   "metadata": {},
   "source": [
    "## Suppression  des données manquantes et atypiques "
   ]
  },
  {
   "cell_type": "code",
   "execution_count": null,
   "metadata": {},
   "outputs": [],
   "source": [
    "airquality=airquality[complete.cases(airquality),]\n",
    "airquality\n",
    "\n",
    "airquality=airquality[airquality$Ozone<110,]"
   ]
  },
  {
   "cell_type": "markdown",
   "metadata": {},
   "source": [
    "## Description des données"
   ]
  },
  {
   "cell_type": "code",
   "execution_count": null,
   "metadata": {},
   "outputs": [],
   "source": [
    "dim(airquality)\n",
    "cor(airquality)"
   ]
  },
  {
   "cell_type": "markdown",
   "metadata": {},
   "source": [
    "##  Création d'un échantillon test"
   ]
  },
  {
   "cell_type": "code",
   "execution_count": null,
   "metadata": {
    "collapsed": true
   },
   "outputs": [],
   "source": [
    "ind_test=4*c(1:25)\n",
    "airquality_app=airquality[-ind_test,]\n",
    "airquality_test=airquality[ind_test,]"
   ]
  },
  {
   "cell_type": "markdown",
   "metadata": {},
   "source": [
    "# Modélisation unidimensionnelle\n",
    "\n",
    "Dans cette partie, nous allons mettre en oeuvre des méthodes nonparamétriques pour modéliser \n",
    "la variable Ozone en fonction de la Température. "
   ]
  },
  {
   "cell_type": "code",
   "execution_count": null,
   "metadata": {},
   "outputs": [],
   "source": [
    "plot(airquality_app$Temp,airquality_app$Ozone)"
   ]
  },
  {
   "cell_type": "markdown",
   "metadata": {},
   "source": [
    "## Splines"
   ]
  },
  {
   "cell_type": "code",
   "execution_count": null,
   "metadata": {},
   "outputs": [],
   "source": [
    "Ozone=airquality_app$Ozone\n",
    "Temp=airquality_app$Temp\n",
    "plot(Temp,Ozone, main=\"Smoothing Splines\")\n",
    "Ozone.spl <- smooth.spline(Temp, Ozone)\n",
    "Ozone.spl\n",
    "lines(Ozone.spl, col = \"blue\")\n",
    "lines(smooth.spline(Temp, Ozone, df=15), lty=2,\n",
    " col = \"red\")\n",
    "legend(60,100,c(paste(\"default [C.V.] => df =\",\n",
    "round(Ozone.spl$df,1)),\" df = 15\"),\n",
    " col = c(\"blue\",\"red\"), lty = 1:2)"
   ]
  },
  {
   "cell_type": "markdown",
   "metadata": {},
   "source": [
    "** Q. ** Essayer d'autres valeurs de df  : 2 puis 20."
   ]
  },
  {
   "cell_type": "markdown",
   "metadata": {},
   "source": [
    "### Calcul de l'erreur d'apprentissage"
   ]
  },
  {
   "cell_type": "code",
   "execution_count": null,
   "metadata": {},
   "outputs": [],
   "source": [
    "pred.app.spl=predict(Ozone.spl,Temp) \n",
    "sqrt(mean((pred.app.spl$y-Ozone)**2))"
   ]
  },
  {
   "cell_type": "markdown",
   "metadata": {},
   "source": [
    "### Calcul de l'erreur sur l'échantillon  test : "
   ]
  },
  {
   "cell_type": "code",
   "execution_count": null,
   "metadata": {},
   "outputs": [],
   "source": [
    "Temp_test=airquality_test$Temp\n",
    "Ozone_test=airquality_test$Ozone\n",
    "pred.spl=predict(Ozone.spl,Temp_test) \n",
    "sqrt(mean((pred.spl$y-Ozone_test)**2))\n"
   ]
  },
  {
   "cell_type": "markdown",
   "metadata": {},
   "source": [
    "## Estimateurs à noyaux"
   ]
  },
  {
   "cell_type": "code",
   "execution_count": null,
   "metadata": {},
   "outputs": [],
   "source": [
    "Ozone.ker <- ksmooth(Temp, Ozone,kernel=\"normal\",\n",
    "bandwidth=5)\n",
    "Ozone.ker\n",
    "Ozone.ker2 <- ksmooth(Temp, Ozone,kernel=\"normal\",\n",
    "bandwidth=10)\n",
    "plot(Temp,Ozone, main=\"Noyau gaussien\")\n",
    "lines(Ozone.ker,col=\"blue\")\n",
    "lines(Ozone.ker2,col=\"red\",lty=2)"
   ]
  },
  {
   "cell_type": "markdown",
   "metadata": {},
   "source": [
    "** Q. ** Faire la même chose avec le noyau ``box''."
   ]
  },
  {
   "cell_type": "code",
   "execution_count": null,
   "metadata": {
    "collapsed": true
   },
   "outputs": [],
   "source": [
    " # Pas de fonction ``predict''! On programme la fonction qui définit l'estimateur.\n",
    "\n",
    "noyau=function(z,X,Y,h)\n",
    "#z est la valeur en laquelle on calcule\n",
    "#l'estimateur, h la fenêtre, \n",
    "#(X,Y) l'échantillon d'apprentissage. \n",
    "{\n",
    "Vect=exp(-((X-z)**2)/(2*h**2))\n",
    "noyau=(sum(Y*Vect))/(sum(Vect))\n",
    "}"
   ]
  },
  {
   "cell_type": "markdown",
   "metadata": {},
   "source": [
    "### Calcul de l'erreur d'apprentissage"
   ]
  },
  {
   "cell_type": "code",
   "execution_count": null,
   "metadata": {},
   "outputs": [],
   "source": [
    "m=length(Temp)\n",
    "pred.ker.app=c(rep(0,m))\n",
    "for (j in 1:m){\n",
    "pred.ker.app[j]=noyau(Temp[j],Temp,Ozone,5)}\n",
    "\n",
    "sqrt(mean((pred.ker.app-Ozone)**2))\n"
   ]
  },
  {
   "cell_type": "markdown",
   "metadata": {},
   "source": [
    "### Calcul de l'erreur sur l'échantillon  test : "
   ]
  },
  {
   "cell_type": "code",
   "execution_count": null,
   "metadata": {},
   "outputs": [],
   "source": [
    "p=length(Temp_test)\n",
    "pred.ker.test=c(rep(0,p))\n",
    "for (j in 1:p){\n",
    "pred.ker.test[j]=noyau(Temp_test[j],Temp,Ozone,5)}\n",
    "\n",
    "sqrt(mean((pred.ker.test-Ozone_test)**2))"
   ]
  },
  {
   "cell_type": "markdown",
   "metadata": {},
   "source": [
    "## Polynômes locaux\n",
    "\n",
    "Estimation ponctuelle par des polynômes locaux. "
   ]
  },
  {
   "cell_type": "code",
   "execution_count": null,
   "metadata": {},
   "outputs": [],
   "source": [
    "plot(Temp,Ozone, main=\"Polynomes locaux\")\n",
    "polyloc=loess(Ozone~Temp,span=0.5,family=\"gaussian\")\n",
    "pred_app=\n",
    "predict(polyloc,data.frame(Temp=sort(unique(Temp))))\n",
    "lines(sort(unique(Temp)),pred_app,col=\"blue\")\n"
   ]
  },
  {
   "cell_type": "markdown",
   "metadata": {},
   "source": [
    "** Q. ** Modifier le paramètre span et le noyau. "
   ]
  },
  {
   "cell_type": "code",
   "execution_count": null,
   "metadata": {},
   "outputs": [],
   "source": [
    "pred=predict(polyloc,data.frame(Temp))\n",
    "plot(Ozone,pred)\n",
    "abline(0,1)"
   ]
  },
  {
   "cell_type": "markdown",
   "metadata": {},
   "source": [
    "### Calcul de l'erreur d'apprentissage"
   ]
  },
  {
   "cell_type": "code",
   "execution_count": null,
   "metadata": {},
   "outputs": [],
   "source": [
    "pred.app.loess=predict(polyloc,Temp) \n",
    "sqrt(mean((pred.app.loess-Ozone)**2))"
   ]
  },
  {
   "cell_type": "markdown",
   "metadata": {},
   "source": [
    "### Calcul de l'erreur sur l'échantillon  test : "
   ]
  },
  {
   "cell_type": "code",
   "execution_count": null,
   "metadata": {},
   "outputs": [],
   "source": [
    "pred.loess=predict(polyloc,Temp_test) \n",
    "sqrt(mean((pred.loess-Ozone_test)**2))"
   ]
  },
  {
   "cell_type": "code",
   "execution_count": null,
   "metadata": {},
   "outputs": [],
   "source": [
    "# Attention aux éventuelles données manquantes. Si nécessaire :\n",
    "\n",
    "ind=complete.cases(pred.loess)\n",
    "sqrt(mean((pred.loess[ind]-Ozone_test[ind])**2))\n"
   ]
  },
  {
   "cell_type": "markdown",
   "metadata": {},
   "source": [
    "# Modélisation multidimensionnelle\n",
    "\n",
    "Nous allons ici prendre en compte l'ensemble des variables explicatives : température, rayonnement solaire, vitesse du vent. \n",
    "\n",
    "## Modèle linéaire : \n",
    "\n",
    "- Ajuster un modèle linéaire pour modéliser la variable ** Ozone **\n",
    "en fonction des variables   ** température, vitesse du vent et rayonnement solaire ** tout \n",
    "d'abord sans interaction  puis en introduisant les interactions entre les variables.\n",
    "\n",
    "- Estimer l'erreur sur l'échantillon d'apprentissage et sur l'échantillon test.\n",
    "\n",
    "## Modèles Additifs Généralisés\n"
   ]
  },
  {
   "cell_type": "code",
   "execution_count": null,
   "metadata": {},
   "outputs": [],
   "source": [
    "library(mgcv)\n",
    "b = gam(Ozone~s(Solar.R)+s(Wind)+s(Temp),\n",
    "data=airquality_app)\n",
    "summary(b)\n",
    "plot(b)"
   ]
  },
  {
   "cell_type": "markdown",
   "metadata": {},
   "source": [
    "** Q. ** En utilisant la fonction ** `predict ` **, calculer l'erreur d'apprentissage et l'erreur sur l'échantillon test. "
   ]
  },
  {
   "cell_type": "markdown",
   "metadata": {},
   "source": [
    "## Arbres CART"
   ]
  },
  {
   "cell_type": "code",
   "execution_count": null,
   "metadata": {},
   "outputs": [],
   "source": [
    "library(rpart)\n",
    "fit = rpart(Ozone ~ Temp + Solar.R + Wind, \n",
    "data=airquality_app)\n",
    "summary(fit)\n",
    "print(fit)\n",
    "plot(fit)\n",
    "text(fit, use.n=TRUE)"
   ]
  },
  {
   "cell_type": "markdown",
   "metadata": {},
   "source": [
    "** Q. ** En utilisant la fonction ** `predict ` **, calculer l'erreur d'apprentissage et l'erreur sur l'échantillon test. "
   ]
  },
  {
   "cell_type": "code",
   "execution_count": null,
   "metadata": {
    "collapsed": true
   },
   "outputs": [],
   "source": [
    "# On obtient un arbre plus ou moins complexe en réglant le paramètre control :\n",
    "\n",
    "fit = rpart(Ozone ~ Temp + Solar.R + Wind, data=airquality_app,control=rpart.control(cp=0.001))\n"
   ]
  },
  {
   "cell_type": "markdown",
   "metadata": {},
   "source": [
    "** Q. ** Calculer l'erreur d'apprentissage et l'erreur sur l'échantillon test avec cet arbre."
   ]
  },
  {
   "cell_type": "markdown",
   "metadata": {},
   "source": [
    "## Kernel Regression Least Square\n",
    "\n",
    "Par défaut, la fonction ** `krls`** du package ** `KRLS` ** utilise le noyau Gaussien. \n",
    "On peut aussi utiliser un noyau linéaire ou polynomial. \n"
   ]
  },
  {
   "cell_type": "code",
   "execution_count": null,
   "metadata": {},
   "outputs": [],
   "source": [
    "Solar.R= airquality_app$Solar.R\n",
    "Wind=airquality_app$Wind\n",
    "Temp=airquality_app$Temp\n",
    "X_app=cbind(Solar.R,Wind,Temp)\n",
    "Ozone=airquality_app$Ozone\n",
    "\n",
    "library(KRLS)\n",
    "krlsfit = krls(X=X_app,y=Ozone)\n",
    "pred.app.krls=predict(object=krlsfit,newdata=X_app)\n"
   ]
  },
  {
   "cell_type": "markdown",
   "metadata": {},
   "source": [
    "### Calcul de l'erreur d'apprentissage"
   ]
  },
  {
   "cell_type": "code",
   "execution_count": null,
   "metadata": {},
   "outputs": [],
   "source": [
    "err_app=sqrt(mean((pred.app.krls$fit-Ozone)**2))\n",
    "err_app"
   ]
  },
  {
   "cell_type": "markdown",
   "metadata": {},
   "source": [
    "### Calcul de l'erreur sur l'échantillon  test : "
   ]
  },
  {
   "cell_type": "code",
   "execution_count": null,
   "metadata": {},
   "outputs": [],
   "source": [
    "Solar.R_test= airquality_test$Solar.R\n",
    "Wind_test=airquality_test$Wind\n",
    "Temp_test=airquality_test$Temp\n",
    "X_test=cbind(Solar.R_test,Wind_test,Temp_test)\n",
    "Ozone_test=airquality_test$Ozone\n",
    "\n",
    "pred.test.krls=predict(object=krlsfit,newdata=X_test)\n",
    "\n",
    "err_test=sqrt(mean((pred.test.krls$fit-Ozone_test)**2))\n",
    "err_test"
   ]
  },
  {
   "cell_type": "markdown",
   "metadata": {},
   "source": [
    "** Q. ** Comparer ces résultats avec ceux que l'on obtient pour un noyau linéaire ou polynomial. \n"
   ]
  },
  {
   "cell_type": "markdown",
   "metadata": {},
   "source": [
    "## Estimateurs à noyaux\n",
    "\n",
    "L'estimateur à noyau multidimensionnel en régression n'est pas programmé. \n",
    "Nous programmons donc cet estimateur."
   ]
  },
  {
   "cell_type": "code",
   "execution_count": null,
   "metadata": {
    "collapsed": true
   },
   "outputs": [],
   "source": [
    "#Fonction intermédiaire qui calcule une norme pondérée :\n",
    "\n",
    "norm<-function(y){\n",
    "h1=15\n",
    "h2=5\n",
    "h3=10\n",
    "n=(y[1]^2)/(2*h1**2)+(y[2]^2)/(2*h2**2)\n",
    "+(y[3]^2)/(2*h3**2)\n",
    "n}\n"
   ]
  },
  {
   "cell_type": "code",
   "execution_count": null,
   "metadata": {
    "collapsed": true
   },
   "outputs": [],
   "source": [
    "#Fonction qui calcule l'estimateur à noyau en un point z;\n",
    "# X est la matrice des variables explicatives \n",
    "# y le vecteur des observations : \n",
    "\n",
    "noyau<-function(z,X,y){\n",
    "m=length(y)\n",
    "for (j in 1:m){\n",
    "X[j,]=X[j,]-z}\n",
    "nor=apply(X,1,norm) \n",
    "Vect2=-(nor)\n",
    "f=sum(y*exp(-(nor)))\n",
    "g=sum(exp(-(nor))) \n",
    "h=f/g\n",
    "h}\n"
   ]
  },
  {
   "cell_type": "code",
   "execution_count": null,
   "metadata": {
    "collapsed": true
   },
   "outputs": [],
   "source": [
    "#Calcul de l'estimateur à noyau en les points \n",
    "#de l'échantillon d'apprentissage : \n",
    "m=length(Ozone)\n",
    "est=rep(0,m)\n",
    "for (j in 1:m){\n",
    "z=rep(0,3)\n",
    "z[1]=Solar.R[j]\n",
    "z[2]=Wind[j]\n",
    "z[3]=Temp[j]\n",
    "z\n",
    "est[j]=noyau(z,X_app,Ozone)\n",
    "est[j]\n",
    "}\n"
   ]
  },
  {
   "cell_type": "code",
   "execution_count": null,
   "metadata": {},
   "outputs": [],
   "source": [
    "plot(Ozone,est)\n",
    "abline(0,1,col=2)"
   ]
  },
  {
   "cell_type": "markdown",
   "metadata": {},
   "source": [
    "### Calcul de l'erreur d'apprentissage :"
   ]
  },
  {
   "cell_type": "code",
   "execution_count": null,
   "metadata": {},
   "outputs": [],
   "source": [
    "sqrt(mean((est-Ozone)**2))"
   ]
  },
  {
   "cell_type": "markdown",
   "metadata": {},
   "source": [
    "### Calcul de l'erreur sur l'échantillon test :"
   ]
  },
  {
   "cell_type": "code",
   "execution_count": null,
   "metadata": {},
   "outputs": [],
   "source": [
    "#Calcul de l'estimateur à noyau en les points \n",
    "#de l'échantillon test  : \n",
    "m_test=length(Ozone_test)\n",
    "pred=rep(0,m_test)\n",
    "for (j in 1:m_test){\n",
    "z=rep(0,3)\n",
    "z[1]=Solar.R_test[j]\n",
    "z[2]=Wind_test[j]\n",
    "z[3]=Temp_test[j]\n",
    "pred[j]=noyau(z,X_app,Ozone)\n",
    "pred[j]\n",
    "}\n",
    "plot(Ozone_test,pred)\n",
    "lines(Ozone_test,Ozone_test,col=2)\n",
    "sqrt(mean((pred-Ozone_test)**2))"
   ]
  },
  {
   "cell_type": "markdown",
   "metadata": {},
   "source": [
    "- Les paramètres h1, h2, h3 choisis ne sont probablement pas optimaux, il faudrait optimiser ces paramètres. \n",
    "- Pb avec cette méthode : le fléau de la dimension. \n"
   ]
  }
 ],
 "metadata": {
  "kernelspec": {
   "display_name": "R",
   "language": "R",
   "name": "ir"
  },
  "language_info": {
   "codemirror_mode": "r",
   "file_extension": ".r",
   "mimetype": "text/x-r-source",
   "name": "R",
   "pygments_lexer": "r",
   "version": "3.6.1"
  },
  "toc": {
   "nav_menu": {},
   "number_sections": true,
   "sideBar": true,
   "skip_h1_title": false,
   "toc_cell": false,
   "toc_position": {},
   "toc_section_display": "block",
   "toc_window_display": false
  }
 },
 "nbformat": 4,
 "nbformat_minor": 2
}
